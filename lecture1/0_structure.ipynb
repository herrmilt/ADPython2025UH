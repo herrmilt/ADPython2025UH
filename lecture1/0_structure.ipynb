{
 "cells": [
  {
   "cell_type": "markdown",
   "metadata": {},
   "source": [
    "# Course: Machine Learning with Python\n",
    "\n",
    "## Lecture 1\n",
    "- [Course introduction](introduction.ipynb)\n",
    "- [The machine learning way to solve problems](program_vs_ml.ipynb)\n",
    "\n"
   ]
  },
  {
   "cell_type": "markdown",
   "metadata": {},
   "source": []
  }
 ],
 "metadata": {
  "language_info": {
   "name": "python"
  }
 },
 "nbformat": 4,
 "nbformat_minor": 2
}
