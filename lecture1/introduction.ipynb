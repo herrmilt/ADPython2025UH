{
 "cells": [
  {
   "cell_type": "markdown",
   "metadata": {},
   "source": [
    "## De qué se trata este curso?\n",
    "- Resolver problemas de Machine Learning utilizando Python y sus bibliotecas, en particular Torch.\n",
    "    - Introducción a Python hasta nivel intermedio. \n",
    "    - Conceptos fundamentales de Machine Learning\n",
    "    - Redes neuronales profundas:\n",
    "        - Torch y tensores\n",
    "        - Componentes fundamentales y algoritmos\n",
    "        - Tareas, arquitecturas, características, usos\n",
    "        - Aplicaciones\n",
    "- En las clases, componentes:\n",
    "    - Teórico\n",
    "    - Demostrativo\n",
    "    - Práctico"
   ]
  },
  {
   "cell_type": "markdown",
   "metadata": {},
   "source": [
    "# Evaluación\n",
    "Proyecto Final\n",
    "- Dos cortes evaluativos: Semana 7 y semana 13\n",
    "\n",
    "# Estructura del curso\n",
    "1. Introduccíón. Ejemplos y aplicaciones\n",
    "2. Muy breve introducción a Python\n",
    "- Primer corte de proyecto\n",
    "3. Machine Learning\n",
    "- Segundo corte de proyecto\n",
    "4. Defensa de trabajo final\n"
   ]
  },
  {
   "cell_type": "markdown",
   "metadata": {},
   "source": []
  }
 ],
 "metadata": {
  "language_info": {
   "name": "python"
  }
 },
 "nbformat": 4,
 "nbformat_minor": 2
}
