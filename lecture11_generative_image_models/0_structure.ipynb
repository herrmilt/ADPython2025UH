{
 "cells": [
  {
   "cell_type": "markdown",
   "metadata": {},
   "source": [
    "# Lecture 11: Image Generative Models\n",
    "- Generative Adversarial Networks (GAN)\n",
    "    - [Introduction](GAN.pdf)\n",
    "    - [In code](gan.ipynb)\n",
    "- [Autoencoders](autoencoders.ipynb)\n",
    "- [Variational Autoencoders (VAE)](intro_nn.ipynb)"
   ]
  },
  {
   "cell_type": "markdown",
   "metadata": {},
   "source": []
  }
 ],
 "metadata": {
  "language_info": {
   "name": "python"
  }
 },
 "nbformat": 4,
 "nbformat_minor": 2
}
