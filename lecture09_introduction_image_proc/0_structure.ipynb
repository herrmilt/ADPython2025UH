{
 "cells": [
  {
   "cell_type": "markdown",
   "metadata": {},
   "source": [
    "# Lecture 5. Introduction to Computer Vision\n",
    "\n",
    "- [Introduction to OpenCV framework](opencv_intro.ipynb)\n",
    "- Convolutional Neural Networks (CNN)\n",
    "    - [Introduction](CNN_Intro.pdf)\n",
    "    - [In code](cnn.ipynb)\n",
    "    - [Transfer Learning](CNN_transf_learn.pdf)"
   ]
  },
  {
   "cell_type": "markdown",
   "metadata": {},
   "source": []
  }
 ],
 "metadata": {
  "language_info": {
   "name": "python"
  }
 },
 "nbformat": 4,
 "nbformat_minor": 2
}
