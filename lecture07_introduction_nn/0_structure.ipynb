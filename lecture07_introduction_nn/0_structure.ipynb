{
 "cells": [
  {
   "cell_type": "markdown",
   "metadata": {},
   "source": [
    "# Lecture 7: Introduction to Artificial Neural Networks\n",
    "- [Introduction to Gradient Descent](introd_grad_desc.ipynb)\n",
    "- [Introduction to Backpropagation](introd_backprop_nn.ipynb)\n",
    "- [Introduction to Neural Networks](intro_nn.ipynb)"
   ]
  },
  {
   "cell_type": "markdown",
   "metadata": {},
   "source": []
  }
 ],
 "metadata": {
  "language_info": {
   "name": "python"
  }
 },
 "nbformat": 4,
 "nbformat_minor": 2
}
