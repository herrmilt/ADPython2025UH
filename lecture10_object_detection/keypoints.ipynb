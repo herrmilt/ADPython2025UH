{
 "cells": [
  {
   "cell_type": "markdown",
   "metadata": {},
   "source": [
    "# Keypoint detection"
   ]
  },
  {
   "cell_type": "code",
   "execution_count": 1,
   "metadata": {},
   "outputs": [],
   "source": [
    "import numpy as np\n",
    "import torch\n",
    "import torch.nn as nn\n",
    "import torch.optim as optim\n",
    "import torch.nn.functional as F\n",
    "import torchvision.transforms as transforms\n",
    "from torch.utils.data import DataLoader, Dataset\n",
    "import matplotlib.pyplot as plt"
   ]
  },
  {
   "cell_type": "code",
   "execution_count": 2,
   "metadata": {},
   "outputs": [
    {
     "name": "stdout",
     "output_type": "stream",
     "text": [
      "cuda:0\n"
     ]
    }
   ],
   "source": [
    "device = torch.device(\"cuda:0\" if torch.cuda.is_available() else \"cpu\")\n",
    "print(device)"
   ]
  },
  {
   "cell_type": "markdown",
   "metadata": {},
   "source": [
    "First, lets detect a keypoint: the center of a circle.\n",
    "\n",
    "First, lets create a dataset containing proper images and annotations."
   ]
  },
  {
   "cell_type": "code",
   "execution_count": 3,
   "metadata": {},
   "outputs": [
    {
     "name": "stderr",
     "output_type": "stream",
     "text": [
      "/tmp/ipykernel_12091/4075550855.py:23: UserWarning: Creating a tensor from a list of numpy.ndarrays is extremely slow. Please consider converting the list to a single numpy.ndarray with numpy.array() before converting to a tensor. (Triggered internally at  ../torch/csrc/utils/tensor_new.cpp:201.)\n",
      "  return torch.tensor(data, device=device).unsqueeze(1), torch.tensor(labels, device=device)\n"
     ]
    },
    {
     "data": {
      "text/plain": [
       "(torch.Size([1, 28, 28]), torch.Size([2]))"
      ]
     },
     "execution_count": 3,
     "metadata": {},
     "output_type": "execute_result"
    }
   ],
   "source": [
    "image_size = 28\n",
    "\n",
    "class ShapesDataset(Dataset):\n",
    "    def __init__(self, num_samples, image_size=28):\n",
    "        self.num_samples = num_samples\n",
    "        self.image_size = image_size\n",
    "        self.data, self.labels = self.generate_data(num_samples, image_size)\n",
    "        \n",
    "    def generate_data(self, num_samples, image_size):\n",
    "        data = []\n",
    "        labels = []\n",
    "        for _ in range(num_samples):\n",
    "            image = np.zeros((image_size, image_size), dtype=np.float32)\n",
    "            # Draw a circle\n",
    "            radius = np.random.randint(5, image_size // 4)\n",
    "            center_x = np.random.randint(radius, image_size - radius)\n",
    "            center_y = np.random.randint(radius, image_size - radius)\n",
    "            y, x = np.ogrid[:image_size, :image_size]\n",
    "            mask = (x - center_x)**2 + (y - center_y)**2 <= radius**2\n",
    "            image[mask] = 1.0\n",
    "            data.append(image)\n",
    "            labels.append((center_y / image_size, center_x / image_size))\n",
    "        return torch.tensor(data, device=device).unsqueeze(1), torch.tensor(labels, device=device)\n",
    "    \n",
    "    def __len__(self):\n",
    "        return self.num_samples\n",
    "    \n",
    "    def __getitem__(self, idx):\n",
    "        return self.data[idx], self.labels[idx]\n",
    "\n",
    "# Create the dataset and dataloaders\n",
    "train_dataset = ShapesDataset(num_samples=1000, image_size=image_size)\n",
    "test_dataset = ShapesDataset(num_samples=200, image_size=image_size)\n",
    "train_loader = DataLoader(train_dataset, batch_size=10, shuffle=True)\n",
    "test_loader = DataLoader(test_dataset, batch_size=10, shuffle=False)\n",
    "\n",
    "train_dataset[0][0].shape, train_dataset[0][1].shape\n"
   ]
  },
  {
   "cell_type": "code",
   "execution_count": 4,
   "metadata": {},
   "outputs": [
    {
     "data": {
      "image/png": "[encoded data removed]",
      "text/plain": [
       "<Figure size 1500x300 with 5 Axes>"
      ]
     },
     "metadata": {},
     "output_type": "display_data"
    }
   ],
   "source": [
    "# Display some samples\n",
    "fig, axes = plt.subplots(1, 5, figsize=(15, 3))\n",
    "for i in range(5):\n",
    "    image, (cx, cy) = train_dataset[i]\n",
    "    cx = int(cx * image_size)\n",
    "    cy = int(cy * image_size)\n",
    "    to_show = image.squeeze().cpu().clone()\n",
    "    to_show[cx, cy] = 0.5\n",
    "    axes[i].imshow(to_show, cmap='gray')\n",
    "    # axes[i].set_title(f\"Label: {'Square' if label.item() == 0 else 'Circle'}\")\n",
    "    axes[i].axis('off')\n",
    "plt.show()"
   ]
  },
  {
   "cell_type": "markdown",
   "metadata": {},
   "source": [
    "Now, lets create the model."
   ]
  },
  {
   "cell_type": "code",
   "execution_count": 5,
   "metadata": {},
   "outputs": [
    {
     "name": "stdout",
     "output_type": "stream",
     "text": [
      "Parameters: 980\n"
     ]
    }
   ],
   "source": [
    "class SimpleCNN(nn.Module):\n",
    "    def __init__(self):\n",
    "        super(SimpleCNN, self).__init__()\n",
    "        self.conv1 = nn.Conv2d(in_channels=1, out_channels=6, \n",
    "                               kernel_size=6, padding=1)\n",
    "        self.conv2 = nn.Conv2d(in_channels=6, out_channels=12, kernel_size=3, \n",
    "                               padding=1)\n",
    "        self.pool = nn.MaxPool2d(kernel_size=3, stride=3)\n",
    "        self.fc = nn.Linear(12 * 2 * 2, 2)  \n",
    "        self.tanh = nn.Tanh()\n",
    "\n",
    "\n",
    "    def forward(self, x):\n",
    "        x = self.pool(self.tanh(self.conv1(x)))\n",
    "        x = self.pool(self.tanh(self.conv2(x)))\n",
    "        x = x.view(x.shape[0], -1)  # Flatten the tensor\n",
    "        x = self.fc(x)\n",
    "        return x\n",
    "\n",
    "model = SimpleCNN().to(device)\n",
    "torch.manual_seed(31416)\n",
    "\n",
    "print(\"Parameters:\", sum(p.nelement() for p in model.parameters()))"
   ]
  },
  {
   "cell_type": "code",
   "execution_count": 6,
   "metadata": {},
   "outputs": [
    {
     "name": "stdout",
     "output_type": "stream",
     "text": [
      "Epoch [1/20], Loss: 0.03538635934353806\n",
      "Epoch [3/20], Loss: 0.0012970281866728328\n",
      "Epoch [5/20], Loss: 0.0005809482505719643\n",
      "Epoch [7/20], Loss: 0.00038555626961169767\n",
      "Epoch [9/20], Loss: 0.0002915487965219654\n",
      "Epoch [11/20], Loss: 0.0002513687434111489\n",
      "Epoch [13/20], Loss: 0.00020588459134160075\n",
      "Epoch [15/20], Loss: 0.0001833917741168989\n",
      "Epoch [17/20], Loss: 0.0001593273946127738\n",
      "Epoch [19/20], Loss: 0.00014500756908091716\n",
      "Training complete\n"
     ]
    }
   ],
   "source": [
    "# Define the loss function and optimizer\n",
    "criterion = nn.MSELoss()\n",
    "optimizer = optim.Adam(model.parameters(), lr=0.001)\n",
    "\n",
    "# Training loop\n",
    "num_epochs = 20\n",
    "for epoch in range(num_epochs):\n",
    "    model.train()\n",
    "    running_loss = 0.0\n",
    "    for images, labels in train_loader:\n",
    "\n",
    "        # forward pass\n",
    "        outputs = model(images)\n",
    "        loss = criterion(outputs, labels)\n",
    "\n",
    "        # backward pass\n",
    "        optimizer.zero_grad()\n",
    "        loss.backward()\n",
    "        \n",
    "        # update\n",
    "        optimizer.step()\n",
    "        running_loss += loss.item()\n",
    "    if epoch % (num_epochs // 10) == 0:\n",
    "        print(f\"Epoch [{epoch+1}/{num_epochs}], Loss: {running_loss / len(train_loader)}\")\n",
    "\n",
    "print(\"Training complete\")\n"
   ]
  },
  {
   "cell_type": "code",
   "execution_count": 7,
   "metadata": {},
   "outputs": [
    {
     "name": "stdout",
     "output_type": "stream",
     "text": [
      "MSE: 0.00017%\n"
     ]
    }
   ],
   "source": [
    "# Evaluation loop\n",
    "model.eval()\n",
    "with torch.no_grad():\n",
    "    all_loss = []\n",
    "    for images, labels in test_loader:\n",
    "        outputs = model(images)\n",
    "        loss = criterion(outputs, labels)\n",
    "        all_loss.append(loss.item())\n",
    "\n",
    "print(f\"MSE: {np.mean(all_loss):.5f}%\")\n"
   ]
  },
  {
   "cell_type": "code",
   "execution_count": 8,
   "metadata": {},
   "outputs": [
    {
     "data": {
      "image/png": "[encoded data removed]",
      "text/plain": [
       "<Figure size 1500x300 with 5 Axes>"
      ]
     },
     "metadata": {},
     "output_type": "display_data"
    }
   ],
   "source": [
    "# Display some samples\n",
    "fig, axes = plt.subplots(1, 5, figsize=(15, 3))\n",
    "for i in range(5):\n",
    "    idx = torch.randint(0, len(test_dataset), (1,))\n",
    "    image, _ = test_dataset[idx.item()]\n",
    "    cx, cy = model(image.unsqueeze(0))[0]\n",
    "    cx = int(cx * image_size)\n",
    "    cy = int(cy * image_size)\n",
    "    to_show = image.squeeze().cpu().clone()\n",
    "    \n",
    "    to_show[cx, cy] = 0.5\n",
    "    axes[i].imshow(to_show, cmap='gray')\n",
    "    # axes[i].set_title(f\"Label: {'Square' if label.item() == 0 else 'Circle'}\")\n",
    "    axes[i].axis('off')\n",
    "plt.show()"
   ]
  },
  {
   "cell_type": "markdown",
   "metadata": {},
   "source": [
    "## More points to detect: square corners\n",
    "\n",
    "Now, we want to detect four keypoints per image: the corners of a square."
   ]
  },
  {
   "cell_type": "code",
   "execution_count": 9,
   "metadata": {},
   "outputs": [
    {
     "data": {
      "text/plain": [
       "(torch.Size([1, 28, 28]), torch.Size([8]))"
      ]
     },
     "execution_count": 9,
     "metadata": {},
     "output_type": "execute_result"
    }
   ],
   "source": [
    "image_size = 28\n",
    "\n",
    "class ShapesDataset(Dataset):\n",
    "    def __init__(self, num_samples, image_size=28):\n",
    "        self.num_samples = num_samples\n",
    "        self.image_size = image_size\n",
    "        self.data, self.labels = self.generate_data(num_samples, image_size)\n",
    "        \n",
    "    def generate_data(self, num_samples, image_size):\n",
    "        data = []\n",
    "        labels = []\n",
    "        for _ in range(num_samples):\n",
    "            image = np.zeros((image_size, image_size), dtype=np.float32)\n",
    "            side = np.random.randint(5, image_size // 2)\n",
    "            top_left_x = np.random.randint(0, image_size - side)\n",
    "            top_left_y = np.random.randint(0, image_size - side)\n",
    "            image[top_left_x:top_left_x+side, top_left_y:top_left_y+side] = 1.0\n",
    "            data.append(image)\n",
    "            points = (\n",
    "                top_left_x, top_left_y, \n",
    "                top_left_x, top_left_y + side - 1,\n",
    "                top_left_x  + side - 1, top_left_y,\n",
    "                top_left_x  + side - 1, top_left_y + side - 1,\n",
    "            )\n",
    "            labels.append([p / image_size for p in points])\n",
    "        return torch.tensor(data, device=device).unsqueeze(1), torch.tensor(labels, device=device)\n",
    "    \n",
    "    def __len__(self):\n",
    "        return self.num_samples\n",
    "    \n",
    "    def __getitem__(self, idx):\n",
    "        return self.data[idx], self.labels[idx]\n",
    "\n",
    "# Create the dataset and dataloaders\n",
    "train_dataset = ShapesDataset(num_samples=1000, image_size=image_size)\n",
    "test_dataset = ShapesDataset(num_samples=200, image_size=image_size)\n",
    "train_loader = DataLoader(train_dataset, batch_size=10, shuffle=True)\n",
    "test_loader = DataLoader(test_dataset, batch_size=10, shuffle=False)\n",
    "\n",
    "train_dataset[0][0].shape, train_dataset[0][1].shape\n"
   ]
  },
  {
   "cell_type": "code",
   "execution_count": 10,
   "metadata": {},
   "outputs": [
    {
     "data": {
      "image/png": "[encoded data removed]",
      "text/plain": [
       "<Figure size 1500x300 with 5 Axes>"
      ]
     },
     "metadata": {},
     "output_type": "display_data"
    }
   ],
   "source": [
    "# Display some samples\n",
    "fig, axes = plt.subplots(1, 5, figsize=(15, 3))\n",
    "for i in range(5):\n",
    "    image, points = train_dataset[i]\n",
    "    to_show = image.squeeze().cpu().clone()\n",
    "    for px, py in points.view(-1, 2):\n",
    "        px = int(px * image_size)\n",
    "        py = int(py * image_size)\n",
    "        to_show[px, py] = 0.5\n",
    "    axes[i].imshow(to_show, cmap='gray')\n",
    "    # axes[i].set_title(f\"Label: {'Square' if label.item() == 0 else 'Circle'}\")\n",
    "    axes[i].axis('off')\n",
    "plt.show()"
   ]
  },
  {
   "cell_type": "code",
   "execution_count": 11,
   "metadata": {},
   "outputs": [
    {
     "name": "stdout",
     "output_type": "stream",
     "text": [
      "Parameters: 1274\n"
     ]
    }
   ],
   "source": [
    "class SquareKPNN(nn.Module):\n",
    "    def __init__(self):\n",
    "        super(SquareKPNN, self).__init__()\n",
    "        self.conv1 = nn.Conv2d(in_channels=1, out_channels=6, \n",
    "                               kernel_size=6, padding=1, device=device)\n",
    "        self.conv2 = nn.Conv2d(in_channels=6, out_channels=12, kernel_size=3, \n",
    "                               padding=1, device=device)\n",
    "        self.pool = nn.MaxPool2d(kernel_size=3, stride=3)\n",
    "        self.fc = nn.Linear(12 * 2 * 2, 8, device=device)  # Adjust the dimensions accordingly\n",
    "        self.tanh = nn.Tanh()\n",
    "\n",
    "\n",
    "    def forward(self, x):\n",
    "        x = self.pool(self.tanh(self.conv1(x)))\n",
    "        x = self.pool(self.tanh(self.conv2(x)))\n",
    "        x = x.view(x.shape[0], -1)  # Flatten the tensor\n",
    "        x = self.fc(x)\n",
    "        return x\n",
    "\n",
    "model = SquareKPNN()\n",
    "torch.manual_seed(31416)\n",
    "\n",
    "print(\"Parameters:\", sum(p.nelement() for p in model.parameters()))"
   ]
  },
  {
   "cell_type": "code",
   "execution_count": 12,
   "metadata": {},
   "outputs": [
    {
     "name": "stdout",
     "output_type": "stream",
     "text": [
      "Epoch [1/20], Loss: 0.05900629230774939\n",
      "Epoch [3/20], Loss: 0.006242914057802409\n",
      "Epoch [5/20], Loss: 0.0037366604164708406\n",
      "Epoch [7/20], Loss: 0.0027753157197730615\n",
      "Epoch [9/20], Loss: 0.0020982961298432203\n",
      "Epoch [11/20], Loss: 0.0017554400867084042\n",
      "Epoch [13/20], Loss: 0.0015087698432034813\n",
      "Epoch [15/20], Loss: 0.001314693670719862\n",
      "Epoch [17/20], Loss: 0.0011642337802913972\n",
      "Epoch [19/20], Loss: 0.0010221840612939558\n",
      "Training complete\n"
     ]
    }
   ],
   "source": [
    "# Define the loss function and optimizer\n",
    "criterion = nn.MSELoss()\n",
    "optimizer = optim.Adam(model.parameters(), lr=0.001)\n",
    "\n",
    "# Training loop\n",
    "num_epochs = 20\n",
    "for epoch in range(num_epochs):\n",
    "    model.train()\n",
    "    running_loss = 0.0\n",
    "    for images, labels in train_loader:\n",
    "\n",
    "        # forward pass\n",
    "        outputs = model(images)\n",
    "        loss = criterion(outputs, labels)\n",
    "\n",
    "        # backward pass\n",
    "        optimizer.zero_grad()\n",
    "        loss.backward()\n",
    "        \n",
    "        # update\n",
    "        optimizer.step()\n",
    "        running_loss += loss.item()\n",
    "    if epoch % (num_epochs // 10) == 0:\n",
    "        print(f\"Epoch [{epoch+1}/{num_epochs}], Loss: {running_loss / len(train_loader)}\")\n",
    "\n",
    "print(\"Training complete\")\n"
   ]
  },
  {
   "cell_type": "code",
   "execution_count": 13,
   "metadata": {},
   "outputs": [
    {
     "data": {
      "image/png": "[encoded data removed]",
      "text/plain": [
       "<Figure size 1500x300 with 5 Axes>"
      ]
     },
     "metadata": {},
     "output_type": "display_data"
    }
   ],
   "source": [
    "# Display some samples\n",
    "fig, axes = plt.subplots(1, 5, figsize=(15, 3))\n",
    "for i in range(5):\n",
    "    idx = torch.randint(0, len(test_dataset), (1,))\n",
    "    image, _ = test_dataset[idx.item()]\n",
    "    points = model(image.unsqueeze(0))[0]\n",
    "    to_show = image.squeeze().cpu().clone()\n",
    "    for px, py in points.view(-1, 2):\n",
    "        px = int(px * image_size)\n",
    "        py = int(py * image_size)\n",
    "        to_show[px, py] = 0.5\n",
    "    axes[i].imshow(to_show, cmap='gray')\n",
    "    # axes[i].set_title(f\"Label: {'Square' if label.item() == 0 else 'Circle'}\")\n",
    "    axes[i].axis('off')\n",
    "plt.show()"
   ]
  },
  {
   "cell_type": "code",
   "execution_count": null,
   "metadata": {},
   "outputs": [],
   "source": []
  }
 ],
 "metadata": {
  "kernelspec": {
   "display_name": "torch_teach",
   "language": "python",
   "name": "python3"
  },
  "language_info": {
   "codemirror_mode": {
    "name": "ipython",
    "version": 3
   },
   "file_extension": ".py",
   "mimetype": "text/x-python",
   "name": "python",
   "nbconvert_exporter": "python",
   "pygments_lexer": "ipython3",
   "version": "3.10.14"
  }
 },
 "nbformat": 4,
 "nbformat_minor": 2
}
