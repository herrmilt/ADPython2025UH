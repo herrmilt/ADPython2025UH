{
 "cells": [
  {
   "cell_type": "markdown",
   "metadata": {},
   "source": [
    "# Lecture 10: Object Detection\n",
    "- Landmark detection\n",
    "    - [Introduction](02_Landmarks.pdf)\n",
    "    - [In code](keypoints.ipynb)\n",
    "- Object detection\n",
    "    - [Object localization](01_ObjLocalization.pdf)\n",
    "    - [General methods](03_RCNN_SSD_Yolo.pdf)\n",
    "    - [Achor boxes](04_AnchorBox.pdf)\n",
    "    - [NMS](05_NMS.pdf)\n",
    "    - [Yolo](06_Yolo.pdf)\n",
    "    - [In code](obj_detect.ipynb)\n"
   ]
  },
  {
   "cell_type": "markdown",
   "metadata": {},
   "source": []
  }
 ],
 "metadata": {
  "language_info": {
   "name": "python"
  }
 },
 "nbformat": 4,
 "nbformat_minor": 2
}
