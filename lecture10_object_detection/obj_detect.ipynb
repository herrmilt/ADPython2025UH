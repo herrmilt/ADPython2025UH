{
 "cells": [
  {
   "cell_type": "markdown",
   "metadata": {},
   "source": [
    "# Object detection"
   ]
  },
  {
   "cell_type": "code",
   "execution_count": 1,
   "metadata": {},
   "outputs": [],
   "source": [
    "import numpy as np\n",
    "import torch\n",
    "import torch.nn as nn\n",
    "import torch.optim as optim\n",
    "import torch.nn.functional as F\n",
    "import torchvision.transforms as transforms\n",
    "from torch.utils.data import DataLoader, Dataset\n",
    "import matplotlib.pyplot as plt"
   ]
  },
  {
   "cell_type": "markdown",
   "metadata": {},
   "source": [
    "Like in other problems, the first step is to build the dataset."
   ]
  },
  {
   "cell_type": "code",
   "execution_count": 8,
   "metadata": {},
   "outputs": [
    {
     "data": {
      "text/plain": [
       "(torch.Size([1, 28, 28]), torch.Size([6]))"
      ]
     },
     "execution_count": 8,
     "metadata": {},
     "output_type": "execute_result"
    }
   ],
   "source": [
    "IMAGE_SIZE = 28\n",
    "\n",
    "class ShapesDataset(Dataset):\n",
    "    def __init__(self, num_samples, image_size=28):\n",
    "        self.num_samples = num_samples\n",
    "        self.image_size = image_size\n",
    "        self.data, self.labels = self.generate_data(num_samples, image_size)\n",
    "        \n",
    "    def generate_data(self, num_samples, image_size):\n",
    "        data = []\n",
    "        ys = []\n",
    "        for i in range(num_samples):\n",
    "            label = np.random.randint(0, 3)\n",
    "            image = np.zeros((image_size, image_size), dtype=np.float32)\n",
    "            if label == 0:\n",
    "                # Draw a square\n",
    "                w = np.random.randint(5, image_size // 2)\n",
    "                h = np.random.randint(5, image_size // 2)\n",
    "                top_left_x = np.random.randint(0, image_size - w)\n",
    "                top_left_y = np.random.randint(0, image_size - h)\n",
    "                image[top_left_y:top_left_y+h, top_left_x:top_left_x+w] = 1.0\n",
    "                out = (1, top_left_x + w / 2, top_left_y + h / 2, w, h, 0)\n",
    "            elif label == 1:\n",
    "                # Draw a circle\n",
    "                radius = np.random.randint(5, image_size // 4)\n",
    "                center_x = np.random.randint(radius, image_size - radius)\n",
    "                center_y = np.random.randint(radius, image_size - radius)\n",
    "                y, x = np.ogrid[:image_size, :image_size]\n",
    "                mask = (x - center_x)**2 + (y - center_y)**2 <= radius**2\n",
    "                image[mask] = 1.0\n",
    "                out = (1, center_x, center_y, radius * 2, radius * 2, 1)\n",
    "            elif label == 2:\n",
    "                image[8:image_size-8, image_size//2] = 1.0\n",
    "                image[image_size//2, 8:image_size-8] = 1.0\n",
    "                out = np.random.random(6)\n",
    "                out[0] = 0\n",
    "            data.append(image)\n",
    "            ys.append(out)\n",
    "\n",
    "            # if i % 2 == 0:\n",
    "            #     image = np.random.random((image_size, image_size))\n",
    "            #     out = np.random.random(6)\n",
    "            #     out[0] = 0\n",
    "            #     data.append(image)\n",
    "            #     ys.append(out)\n",
    "\n",
    "        ys = torch.tensor(ys) / torch.Tensor([1, image_size, image_size, image_size, image_size, 1])\n",
    "        return torch.tensor(data).unsqueeze(1).to(torch.float), ys.to(torch.float)\n",
    "    \n",
    "    def __len__(self):\n",
    "        return self.num_samples\n",
    "    \n",
    "    def __getitem__(self, idx):\n",
    "        return self.data[idx], self.labels[idx]\n",
    "\n",
    "# Create the dataset and dataloaders\n",
    "train_dataset = ShapesDataset(num_samples=1000, image_size=IMAGE_SIZE)\n",
    "test_dataset = ShapesDataset(num_samples=200, image_size=IMAGE_SIZE)\n",
    "train_loader = DataLoader(train_dataset, batch_size=10, shuffle=True)\n",
    "test_loader = DataLoader(test_dataset, batch_size=10, shuffle=False)\n",
    "\n",
    "train_dataset[0][0].shape, train_dataset[0][1].shape"
   ]
  },
  {
   "cell_type": "code",
   "execution_count": 9,
   "metadata": {},
   "outputs": [
    {
     "data": {
      "image/png": "[encoded data removed]",
      "text/plain": [
       "<Figure size 800x800 with 1 Axes>"
      ]
     },
     "metadata": {},
     "output_type": "display_data"
    }
   ],
   "source": [
    "import torchvision.utils as vutils\n",
    "\n",
    "def draw_rect(fig, rect, color=0.5):\n",
    "    x, y, w, h = (rect * IMAGE_SIZE).to(torch.int).numpy()\n",
    "    p1x, p1y = (max(0, x - w // 2 - 1), max(0, y - h // 2 - 1))\n",
    "    p2x, p2y = (min(IMAGE_SIZE-1, x + w // 2 + 1), min(IMAGE_SIZE-1, y + h // 2 + 1))\n",
    "    for i in range(p1x, p2x+1):\n",
    "        fig[0, p1y, i] = color\n",
    "        fig[0, p2y, i] = color\n",
    "    for i in range(p1y, p2y+1):\n",
    "        fig[0, i, p1x] = color\n",
    "        fig[0, i, p2x] = color\n",
    "\n",
    "figures, labels = train_dataset[:16]\n",
    "to_show = []\n",
    "for f, l in zip(figures, labels):\n",
    "    fig = f.clone()\n",
    "    if l[0] > 0.5:\n",
    "        draw_rect(fig, l[1:5], 1 if l[5] > 0.5 else 0.5)\n",
    "    to_show.append(fig)\n",
    "\n",
    "plt.figure(figsize=(8,8))\n",
    "plt.imshow(np.transpose(vutils.make_grid(to_show, padding=2, normalize=True, nrow=4)\n",
    "                        ,(1,2,0)))\n",
    "plt.show()"
   ]
  },
  {
   "cell_type": "markdown",
   "metadata": {},
   "source": [
    "Lets show how do the size of the tensors changes while moving throw a proposed architecture"
   ]
  },
  {
   "cell_type": "code",
   "execution_count": 10,
   "metadata": {},
   "outputs": [
    {
     "name": "stdout",
     "output_type": "stream",
     "text": [
      "input torch.Size([10, 1, 28, 28])\n",
      "-- Conv2d(1, 8, kernel_size=(2, 2), stride=(1, 1), padding=same)\n",
      "torch.Size([10, 8, 28, 28])\n",
      "-- MaxPool2d(kernel_size=2, stride=2, padding=0, dilation=1, ceil_mode=False)\n",
      "torch.Size([10, 8, 14, 14])\n",
      "-- Conv2d(8, 16, kernel_size=(2, 2), stride=(1, 1), padding=same)\n",
      "torch.Size([10, 16, 14, 14])\n",
      "-- MaxPool2d(kernel_size=2, stride=2, padding=0, dilation=1, ceil_mode=False)\n",
      "torch.Size([10, 16, 7, 7])\n",
      "-- Conv2d(16, 32, kernel_size=(2, 2), stride=(1, 1), padding=same)\n",
      "torch.Size([10, 32, 7, 7])\n",
      "-- MaxPool2d(kernel_size=2, stride=2, padding=0, dilation=1, ceil_mode=False)\n",
      "torch.Size([10, 32, 3, 3])\n",
      "-- Flatten(start_dim=1, end_dim=-1)\n",
      "torch.Size([10, 288])\n",
      "-- Linear(in_features=288, out_features=7, bias=True)\n",
      "torch.Size([10, 7])\n"
     ]
    },
    {
     "name": "stderr",
     "output_type": "stream",
     "text": [
      "/home/milton/miniconda3/envs/torch_teach/lib/python3.10/site-packages/torch/nn/modules/conv.py:453: UserWarning: Using padding='same' with even kernel lengths and odd dilation may require a zero-padded copy of the input be created (Triggered internally at  ../aten/src/ATen/native/Convolution.cpp:882.)\n",
      "  return F.conv2d(input, weight, bias, self.stride,\n"
     ]
    }
   ],
   "source": [
    "h_count = 8\n",
    "\n",
    "x = next(iter(train_loader))[0]\n",
    "print(\"input\", x.shape)\n",
    "for m in [\n",
    "    nn.Conv2d(in_channels=1, out_channels=h_count, kernel_size=2, padding='same'),\n",
    "    nn.MaxPool2d(kernel_size=2),\n",
    "    nn.Conv2d(in_channels=h_count, out_channels=h_count*2, kernel_size=2, padding='same'),\n",
    "    nn.MaxPool2d(kernel_size=2),\n",
    "    nn.Conv2d(in_channels=h_count*2, out_channels=h_count*4, kernel_size=2, padding='same'),\n",
    "    nn.MaxPool2d(kernel_size=2),\n",
    "    nn.Flatten(start_dim=1),\n",
    "    nn.Linear(h_count*4*3*3, 7),\n",
    "]:\n",
    "    x = m(x)\n",
    "    print(f\"-- {m}\")\n",
    "    print(x.shape)"
   ]
  },
  {
   "cell_type": "code",
   "execution_count": 11,
   "metadata": {},
   "outputs": [
    {
     "name": "stdout",
     "output_type": "stream",
     "text": [
      "cuda:0\n"
     ]
    }
   ],
   "source": [
    "device = torch.device(\"cuda:0\" if torch.cuda.is_available() else \"cpu\")\n",
    "print(device)"
   ]
  },
  {
   "cell_type": "code",
   "execution_count": 12,
   "metadata": {},
   "outputs": [],
   "source": [
    "# Create the model\n",
    "\n",
    "class ObjectDetector(nn.Module):\n",
    "    def __init__(self, h_count=8):\n",
    "        super(ObjectDetector, self).__init__()\n",
    "        self.conv1 = nn.Conv2d(in_channels=1, out_channels=h_count, kernel_size=2, padding='same')\n",
    "        self.conv2 = nn.Conv2d(in_channels=h_count, out_channels=h_count*2, kernel_size=2, padding='same')\n",
    "        self.conv3 = nn.Conv2d(in_channels=h_count*2, out_channels=h_count*4, kernel_size=2, padding='same')\n",
    "        self.pool = nn.MaxPool2d(kernel_size=2)\n",
    "        self.fc = nn.Linear(h_count*4*3*3, 7)\n",
    "\n",
    "    def forward(self, x):\n",
    "        x = self.pool(torch.relu(self.conv1(x)))\n",
    "        x = self.pool(torch.relu(self.conv2(x)))\n",
    "        x = self.pool(torch.relu(self.conv3(x)))\n",
    "        x = x.view(x.shape[0], -1)  # Flatten the tensor\n",
    "        x = self.fc(x)\n",
    "        return x\n",
    "    \n",
    "model = ObjectDetector().to(device)"
   ]
  },
  {
   "cell_type": "markdown",
   "metadata": {},
   "source": [
    "We need to define a proper loss"
   ]
  },
  {
   "cell_type": "code",
   "execution_count": 13,
   "metadata": {},
   "outputs": [],
   "source": [
    "class CustomLoss(nn.Module):\n",
    "\n",
    "    def forward(self, predictions, targets):\n",
    "        pred_is_object = predictions[:, 0]\n",
    "        pred_box = predictions[:, 1:5]\n",
    "        pred_logits = predictions[:, 5:7]\n",
    "\n",
    "        target_is_object = targets[:, 0]\n",
    "        target_box = targets[:, 1:5]\n",
    "        target_class = targets[:, 5].to(torch.long)\n",
    "\n",
    "        loss = F.mse_loss(pred_is_object, target_is_object)\n",
    "        is_object = target_is_object == 1\n",
    "        \n",
    "        if torch.any(is_object):\n",
    "            loss += F.mse_loss(pred_box[is_object], target_box[is_object])\n",
    "            loss += F.cross_entropy(pred_logits[is_object], target_class[is_object])\n",
    "        return loss\n"
   ]
  },
  {
   "cell_type": "code",
   "execution_count": 14,
   "metadata": {},
   "outputs": [
    {
     "data": {
      "text/plain": [
       "(1.0, 1)"
      ]
     },
     "execution_count": 14,
     "metadata": {},
     "output_type": "execute_result"
    }
   ],
   "source": [
    "# Loss associated to object\n",
    "pred = torch.tensor(([1.0, 4, 5, 0, 0, 0.0000, 1.000])).unsqueeze(0)\n",
    "target = torch.tensor   (([0.0, 1, 2, 0, 0, 1])).unsqueeze(0)\n",
    "CustomLoss()(pred, target).item(), 1"
   ]
  },
  {
   "cell_type": "code",
   "execution_count": 15,
   "metadata": {},
   "outputs": [
    {
     "data": {
      "text/plain": [
       "(1.25, 1.25)"
      ]
     },
     "execution_count": 15,
     "metadata": {},
     "output_type": "execute_result"
    }
   ],
   "source": [
    "# Loss associated to box\n",
    "pred = torch.tensor(([1.0, 0, 0, 0, 0, 0, 100])).unsqueeze(0)\n",
    "target = torch.tensor((   [1.0, 1, 2, 0, 0, 1])).unsqueeze(0)\n",
    "\n",
    "CustomLoss()(pred, target).item(), (1**2 + 2**2)/4"
   ]
  },
  {
   "cell_type": "code",
   "execution_count": 16,
   "metadata": {},
   "outputs": [
    {
     "data": {
      "text/plain": [
       "(2.3531861305236816, 2.353186048885458)"
      ]
     },
     "execution_count": 16,
     "metadata": {},
     "output_type": "execute_result"
    }
   ],
   "source": [
    "# Loss associated to classification\n",
    "pred = torch.tensor(([1.0000, 0, 0, 0, 0, 1.2, 0.5])).unsqueeze(0)\n",
    "target = torch.tensor(([1.0000, 1, 2, 0, 0, 1])).unsqueeze(0)\n",
    "CustomLoss()(pred, target).item(), 1.25 - np.log(np.exp(0.5) / (np.exp(1.2) + np.exp(0.5)))"
   ]
  },
  {
   "cell_type": "code",
   "execution_count": 17,
   "metadata": {},
   "outputs": [
    {
     "data": {
      "text/plain": [
       "(1.75, 1.75)"
      ]
     },
     "execution_count": 17,
     "metadata": {},
     "output_type": "execute_result"
    }
   ],
   "source": [
    "# larger batch\n",
    "\n",
    "pred = torch.tensor(([\n",
    "    [1.0, 4, 5, 0, 0, 0.0000, 1.000], \n",
    "    [1.0, 0, 0, 0, 0, 0, 100]\n",
    "    ]))\n",
    "target = torch.tensor(([\n",
    "    [0.0, 1, 2, 0, 0, 1], \n",
    "    [1.0, 1, 2, 0, 0, 1]\n",
    "    ]))\n",
    "CustomLoss()(pred, target).item(), (1**2/2) + 1.25"
   ]
  },
  {
   "cell_type": "code",
   "execution_count": 18,
   "metadata": {},
   "outputs": [
    {
     "name": "stdout",
     "output_type": "stream",
     "text": [
      "Epoch [1/30], Loss: 0.7506755873560905\n",
      "Epoch [4/30], Loss: 0.015829032962210478\n",
      "Epoch [7/30], Loss: 0.009193936807569116\n",
      "Epoch [10/30], Loss: 0.006146341448184103\n",
      "Epoch [13/30], Loss: 0.004933448422234505\n",
      "Epoch [16/30], Loss: 0.005483272894052788\n",
      "Epoch [19/30], Loss: 0.003218787449877709\n",
      "Epoch [22/30], Loss: 0.0029842048126738517\n",
      "Epoch [25/30], Loss: 0.0030443601461593063\n",
      "Epoch [28/30], Loss: 0.0025361706537660213\n",
      "Training complete\n"
     ]
    }
   ],
   "source": [
    "# Create the loss function and optimizer\n",
    "loss_fn = CustomLoss()\n",
    "optimizer = optim.Adam(model.parameters(), lr=0.01)\n",
    "\n",
    "# Training loop\n",
    "num_epochs = 30\n",
    "model.train()\n",
    "for epoch in range(num_epochs):\n",
    "    running_loss = 0.0\n",
    "    for images, labels in train_loader:\n",
    "        images = images.to(device)\n",
    "        labels = labels.to(device)\n",
    "        optimizer.zero_grad()\n",
    "        outputs = model(images)\n",
    "        loss = loss_fn(outputs, labels)\n",
    "        loss.backward()\n",
    "        optimizer.step()\n",
    "        running_loss += loss.item()\n",
    "    if epoch % (num_epochs // 10) == 0:\n",
    "        print(f\"Epoch [{epoch+1}/{num_epochs}], Loss: {running_loss / len(train_loader)}\")\n",
    "\n",
    "print(\"Training complete\")"
   ]
  },
  {
   "cell_type": "code",
   "execution_count": 19,
   "metadata": {},
   "outputs": [
    {
     "data": {
      "text/plain": [
       "(tensor([[-0.0145,  0.5416,  0.5151,  0.0756,  0.3059,  0.1386,  0.0247],\n",
       "         [ 0.9936,  0.5786,  0.4452,  0.4805,  0.3400,  7.4374, -7.3093],\n",
       "         [ 1.0320,  0.4765,  0.7053,  0.4249,  0.4394, -5.9263,  6.1816],\n",
       "         [ 1.0398,  0.6867,  0.2874,  0.3594,  0.4114, -6.8053,  7.0559],\n",
       "         [-0.0145,  0.5416,  0.5151,  0.0756,  0.3059,  0.1386,  0.0247]],\n",
       "        device='cuda:0', grad_fn=<SliceBackward0>),\n",
       " tensor([[0.0000, 0.0298, 0.0297, 0.0132, 0.0204, 0.9676],\n",
       "         [1.0000, 0.5536, 0.4286, 0.4643, 0.3571, 0.0000],\n",
       "         [1.0000, 0.4643, 0.6786, 0.4286, 0.4286, 1.0000],\n",
       "         [1.0000, 0.6071, 0.2857, 0.4286, 0.4286, 1.0000],\n",
       "         [0.0000, 0.0248, 0.0128, 0.0220, 0.0300, 0.7582]], device='cuda:0'))"
      ]
     },
     "execution_count": 19,
     "metadata": {},
     "output_type": "execute_result"
    }
   ],
   "source": [
    "outputs[:5], labels[:5]"
   ]
  },
  {
   "cell_type": "code",
   "execution_count": 20,
   "metadata": {},
   "outputs": [
    {
     "name": "stdout",
     "output_type": "stream",
     "text": [
      "MSE: 0.00220\n"
     ]
    }
   ],
   "source": [
    "# Evaluation loop\n",
    "model.eval()\n",
    "with torch.no_grad():\n",
    "    all_loss = []\n",
    "    for images, labels in test_loader:\n",
    "        images = images.to(device)\n",
    "        labels = labels.to(device)\n",
    "        outputs = model(images)\n",
    "        loss = loss_fn(outputs, labels)\n",
    "        all_loss.append(loss.item())\n",
    "\n",
    "print(f\"MSE: {np.mean(all_loss):.5f}\")"
   ]
  },
  {
   "cell_type": "code",
   "execution_count": 21,
   "metadata": {},
   "outputs": [
    {
     "data": {
      "image/png": "[encoded data removed]",
      "text/plain": [
       "<Figure size 800x800 with 1 Axes>"
      ]
     },
     "metadata": {},
     "output_type": "display_data"
    }
   ],
   "source": [
    "figures, _ = test_dataset[:16]\n",
    "figures = figures.to(device)\n",
    "to_show = []\n",
    "for f in figures:\n",
    "    fig = f.clone()\n",
    "    l = model(fig.unsqueeze(0))[0].cpu()\n",
    "    if l[0] > 0.5:\n",
    "        draw_rect(fig, l[1:5], 1 if l[6] > 0.5 else 0.5)\n",
    "    to_show.append(fig.cpu())\n",
    "\n",
    "plt.figure(figsize=(8,8))\n",
    "plt.imshow(np.transpose(vutils.make_grid(to_show, padding=2, normalize=True, nrow=4)\n",
    "                        ,(1,2,0)))\n",
    "plt.show()"
   ]
  },
  {
   "cell_type": "code",
   "execution_count": null,
   "metadata": {},
   "outputs": [],
   "source": []
  }
 ],
 "metadata": {
  "kernelspec": {
   "display_name": "torch_teach",
   "language": "python",
   "name": "python3"
  },
  "language_info": {
   "codemirror_mode": {
    "name": "ipython",
    "version": 3
   },
   "file_extension": ".py",
   "mimetype": "text/x-python",
   "name": "python",
   "nbconvert_exporter": "python",
   "pygments_lexer": "ipython3",
   "version": "3.10.14"
  }
 },
 "nbformat": 4,
 "nbformat_minor": 2
}
